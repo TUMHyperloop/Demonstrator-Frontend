{
 "cells": [
  {
   "cell_type": "code",
   "execution_count": 25,
   "metadata": {},
   "outputs": [
    {
     "name": "stdout",
     "output_type": "stream",
     "text": [
      "free\n",
      "free\n"
     ]
    },
    {
     "ename": "KeyboardInterrupt",
     "evalue": "",
     "output_type": "error",
     "traceback": [
      "\u001b[0;31m---------------------------------------------------------------------------\u001b[0m",
      "\u001b[0;31mKeyboardInterrupt\u001b[0m                         Traceback (most recent call last)",
      "Cell \u001b[0;32mIn[25], line 46\u001b[0m\n\u001b[1;32m     43\u001b[0m         message \u001b[39m=\u001b[39m \u001b[39mf\u001b[39m\u001b[39m\"\u001b[39m\u001b[39mRaum \u001b[39m\u001b[39m{\u001b[39;00mraum[\u001b[39m'\u001b[39m\u001b[39mraum_code\u001b[39m\u001b[39m'\u001b[39m]\u001b[39m}\u001b[39;00m\u001b[39m is now available!\u001b[39m\u001b[39m\"\u001b[39m \u001b[39m# Notification message\u001b[39;00m\n\u001b[1;32m     44\u001b[0m         Notifier\u001b[39m.\u001b[39mnotify(message) \u001b[39m# Send macOS notification\u001b[39;00m\n\u001b[0;32m---> 46\u001b[0m time\u001b[39m.\u001b[39;49msleep(\u001b[39m10\u001b[39;49m)\n",
      "\u001b[0;31mKeyboardInterrupt\u001b[0m: "
     ]
    }
   ],
   "source": [
    "import time\n",
    "\n",
    "# Define the raum_codes to look for\n",
    "raum_codes = [\n",
    "    \"01.03.035A\",\n",
    "    \"01.03.043B\",\n",
    "    \"01.03.041A\",\n",
    "    \"01.03.031B\",\n",
    "    \"01.03.043A\",\n",
    "    \"01.03.035B\",\n",
    "    \"01.03.033A\",\n",
    "    \"01.03.037B\",\n",
    "    \"01.03.037A\",\n",
    "    \"01.03.039A\",\n",
    "    \"01.03.033B\"\n",
    "]\n",
    "\n",
    "import requests\n",
    "import json\n",
    "from pync import Notifier # For macOS notifications\n",
    "\n",
    "# Define the endpoint URL and request headers\n",
    "url = \"https://iris.asta.tum.de/api/\"\n",
    "headers = {\n",
    "    \"User-Agent\": \"Mozilla/5.0 (Windows NT 10.0; Win64; x64) AppleWebKit/537.36 (KHTML, like Gecko) Chrome/58.0.3029.110 Safari/537.3\"}\n",
    "\n",
    "while True: \n",
    "    # Make the API request and get the response\n",
    "    response = requests.get(url, headers=headers)\n",
    "\n",
    "    # Parse the JSON response\n",
    "    data = json.loads(response.text)\n",
    "\n",
    "    if response.status_code != 200: \n",
    "        message = f\"Error in script!\" # Notification message\n",
    "        Notifier.notify(message) # Send macOS notification\n",
    "\n",
    "\n",
    "    # Check the status of each raum with the specified raum_codes\n",
    "    for raum in data[\"raeume\"]:\n",
    "        if raum[\"raum_code\"] in raum_codes and raum[\"status\"] == \"frei\":\n",
    "            print('free')\n",
    "            message = f\"Raum {raum['raum_code']} is now available!\" # Notification message\n",
    "            Notifier.notify(message) # Send macOS notification\n",
    "\n",
    "    time.sleep(10)\n"
   ]
  },
  {
   "cell_type": "code",
   "execution_count": 16,
   "metadata": {},
   "outputs": [
    {
     "name": "stdout",
     "output_type": "stream",
     "text": [
      "False\n",
      "False\n",
      "False\n",
      "True\n",
      "False\n",
      "False\n",
      "False\n",
      "False\n",
      "False\n",
      "False\n",
      "False\n"
     ]
    }
   ],
   "source": [
    "for raum in data['raeume']:\n",
    "    if raum[\"raum_code\"] in raum_codes: \n",
    "        print(raum[\"status\"] == 'frei') \n"
   ]
  },
  {
   "cell_type": "code",
   "execution_count": 22,
   "metadata": {},
   "outputs": [
    {
     "data": {
      "text/plain": [
       "<Popen: returncode: None args: ['/Users/faa/Library/Python/3.9/lib/python/si...>"
      ]
     },
     "execution_count": 22,
     "metadata": {},
     "output_type": "execute_result"
    }
   ],
   "source": [
    "message = f\"Error in script!\" # Notification message\n",
    "Notifier.notify(message) # Send macOS notification"
   ]
  }
 ],
 "metadata": {
  "kernelspec": {
   "display_name": "Python 3",
   "language": "python",
   "name": "python3"
  },
  "language_info": {
   "codemirror_mode": {
    "name": "ipython",
    "version": 3
   },
   "file_extension": ".py",
   "mimetype": "text/x-python",
   "name": "python",
   "nbconvert_exporter": "python",
   "pygments_lexer": "ipython3",
   "version": "3.9.6"
  },
  "orig_nbformat": 4
 },
 "nbformat": 4,
 "nbformat_minor": 2
}
